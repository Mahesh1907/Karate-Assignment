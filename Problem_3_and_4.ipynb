{
  "nbformat": 4,
  "nbformat_minor": 0,
  "metadata": {
    "colab": {
      "provenance": [],
      "authorship_tag": "ABX9TyP7P/u9YdSqtKna8LwW0F5F",
      "include_colab_link": true
    },
    "kernelspec": {
      "name": "python3",
      "display_name": "Python 3"
    },
    "language_info": {
      "name": "python"
    }
  },
  "cells": [
    {
      "cell_type": "markdown",
      "metadata": {
        "id": "view-in-github",
        "colab_type": "text"
      },
      "source": [
        "<a href=\"https://colab.research.google.com/github/Mahesh1907/Karate-Assignment/blob/main/Problem_3_and_4.ipynb\" target=\"_parent\"><img src=\"https://colab.research.google.com/assets/colab-badge.svg\" alt=\"Open In Colab\"/></a>"
      ]
    },
    {
      "cell_type": "markdown",
      "source": [
        "Code:"
      ],
      "metadata": {
        "id": "0PFvYKRnFOAN"
      }
    },
    {
      "cell_type": "code",
      "execution_count": null,
      "metadata": {
        "id": "_euZ3ERiFJVJ"
      },
      "outputs": [],
      "source": [
        "Feature: Create a Pet\n",
        "\n",
        "  Background:\n",
        "    * url 'https://petstore.swagger.io/v2/pet'\n",
        "\n",
        "  Scenario: Create a new pet\n",
        "    Given def petId = 100\n",
        "    Given def petName = \"Fluffy\"\n",
        "    Given request\n",
        "  \"\"\"\n",
        "  {\n",
        "    \"id\": \"#(petId)\",\n",
        "    \"name\": \"#(petName)\",\n",
        "    \"status\": \"available\"\n",
        "  }\n",
        "  \"\"\"\n",
        "    When method post\n",
        "    Then status 200\n",
        "    And match response == {\"id\":\"#(petId)\",\"name\":\"#(petName)\",\"photoUrls\":[],\"tags\":[],\"status\":\"available\"}\n",
        "    And print 'Pet ID created successfully!'\n",
        "    And print 'Pet ID:', response.id\n",
        "    And print 'Pet Name:', response.name\n",
        "    And print 'Pet Status:', response.status"
      ]
    },
    {
      "cell_type": "markdown",
      "source": [
        "***Output:***"
      ],
      "metadata": {
        "id": "YOGbtX-EFSjC"
      }
    },
    {
      "cell_type": "code",
      "source": [
        "08:55:27.412 [main]  INFO  com.intuit.karate - Karate version: 1.4.0\n",
        "08:55:28.452 [main]  INFO  com.intuit.karate.Suite - backed up existing 'target\\karate-reports' dir to: target\\karate-reports_1690255528442\n",
        "08:55:33.292 [main]  DEBUG com.intuit.karate - request:\n",
        "1 > POST https://petstore.swagger.io/v2/pet\n",
        "1 > Content-Type: application/json; charset=UTF-8\n",
        "1 > Content-Length: 47\n",
        "1 > Host: petstore.swagger.io\n",
        "1 > Connection: Keep-Alive\n",
        "1 > User-Agent: Apache-HttpClient/4.5.14 (Java/17.0.7)\n",
        "1 > Accept-Encoding: gzip,deflate\n",
        "{\"id\":100,\"name\":\"Fluffy\",\"status\":\"available\"}\n",
        "\n",
        "08:55:34.984 [main]  DEBUG com.intuit.karate - response time in milliseconds: 1672\n",
        "1 < 200\n",
        "1 < Date: Tue, 25 Jul 2023 03:25:34 GMT\n",
        "1 < Content-Type: application/json\n",
        "1 < Transfer-Encoding: chunked\n",
        "1 < Connection: keep-alive\n",
        "1 < Access-Control-Allow-Origin: *\n",
        "1 < Access-Control-Allow-Methods: GET, POST, DELETE, PUT\n",
        "1 < Access-Control-Allow-Headers: Content-Type, api_key, Authorization\n",
        "1 < Server: Jetty(9.2.9.v20150224)\n",
        "{\"id\":100,\"name\":\"Fluffy\",\"photoUrls\":[],\"tags\":[],\"status\":\"available\"}\n",
        "\n",
        "08:55:35.505 [main]  INFO  com.intuit.karate - [print] Pet ID created successfully!\n",
        "08:55:35.512 [main]  INFO  com.intuit.karate - [print] Pet ID: 100\n",
        "08:55:35.515 [main]  INFO  com.intuit.karate - [print] Pet Name: Fluffy\n",
        "08:55:35.518 [main]  INFO  com.intuit.karate - [print] Pet Status: available\n",
        "---------------------------------------------------------\n",
        "feature: src/test/java/testrunner/Problem_3_and_4.feature\n",
        "scenarios:  1 | passed:  1 | failed:  0 | time: 4.1129\n",
        "---------------------------------------------------------\n",
        "\n",
        "08:55:37.949 [main]  INFO  com.intuit.karate.Suite - <<pass>> feature 1 of 1 (0 remaining) src/test/java/testrunner/Problem_3_and_4.feature\n",
        "Karate version: 1.4.0\n",
        "======================================================\n",
        "elapsed:   9.74 | threads:    1 | thread time: 4.11\n",
        "features:     1 | skipped:    0 | efficiency: 0.42\n",
        "scenarios:    1 | passed:     1 | failed: 0\n",
        "======================================================\n",
        "\n",
        "HTML report: (paste into browser to view) | Karate version: 1.4.0\n",
        "file:///C:/Users/maheswaranma/IdeaProjects/Karate_Framework/target/karate-reports/karate-summary.html\n",
        "===================================================================\n",
        "\n",
        "\n",
        "Process finished with exit code 0"
      ],
      "metadata": {
        "id": "0tCmDxWKFdql"
      },
      "execution_count": null,
      "outputs": []
    }
  ]
}