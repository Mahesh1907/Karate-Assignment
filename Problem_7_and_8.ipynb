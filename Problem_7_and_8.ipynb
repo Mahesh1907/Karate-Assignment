{
  "nbformat": 4,
  "nbformat_minor": 0,
  "metadata": {
    "colab": {
      "provenance": [],
      "authorship_tag": "ABX9TyNoTdKs9+yAP4yWcoJWKA+z",
      "include_colab_link": true
    },
    "kernelspec": {
      "name": "python3",
      "display_name": "Python 3"
    },
    "language_info": {
      "name": "python"
    }
  },
  "cells": [
    {
      "cell_type": "markdown",
      "metadata": {
        "id": "view-in-github",
        "colab_type": "text"
      },
      "source": [
        "<a href=\"https://colab.research.google.com/github/Mahesh1907/Karate-Assignment/blob/main/Problem_7_and_8.ipynb\" target=\"_parent\"><img src=\"https://colab.research.google.com/assets/colab-badge.svg\" alt=\"Open In Colab\"/></a>"
      ]
    },
    {
      "cell_type": "markdown",
      "source": [
        "Code:"
      ],
      "metadata": {
        "id": "qgN_HqSENoWd"
      }
    },
    {
      "cell_type": "code",
      "execution_count": null,
      "metadata": {
        "id": "qKWOXCTbLUJZ"
      },
      "outputs": [],
      "source": [
        "Feature: Delete Pet by ID\n",
        "\n",
        "  Background:\n",
        "    * def getPetId =\n",
        "    \"\"\"\n",
        "    function() {\n",
        "      var petId = 100;\n",
        "      return petId;\n",
        "    }\n",
        "    \"\"\"\n",
        "\n",
        "  Scenario: Delete a specific pet by ID\n",
        "    * def id = getPetId()\n",
        "    Given url 'https://petstore.swagger.io/v2/pet/' + id\n",
        "    When method delete\n",
        "    Then status 200\n",
        "\n",
        "    And match response == { code: 200, type: 'unknown', message: '100' }\n",
        "    And print 'Pet ID deleted successfully.'\n",
        "    And print 'Pet ID:', id\n",
        "    And print 'Response Code:', response.code\n"
      ]
    },
    {
      "cell_type": "markdown",
      "source": [
        "***Output:***"
      ],
      "metadata": {
        "id": "Dl-i1MsJNrDe"
      }
    },
    {
      "cell_type": "code",
      "source": [
        "09:50:21.430 [main]  INFO  com.intuit.karate - Karate version: 1.4.0\n",
        "09:50:22.662 [main]  INFO  com.intuit.karate.Suite - backed up existing 'target\\karate-reports' dir to: target\\karate-reports_1690258822647\n",
        "09:50:27.528 [main]  DEBUG com.intuit.karate - request:\n",
        "1 > DELETE https://petstore.swagger.io/v2/pet/100\n",
        "1 > Host: petstore.swagger.io\n",
        "1 > Connection: Keep-Alive\n",
        "1 > User-Agent: Apache-HttpClient/4.5.14 (Java/17.0.7)\n",
        "1 > Accept-Encoding: gzip,deflate\n",
        "\n",
        "\n",
        "09:50:29.234 [main]  DEBUG com.intuit.karate - response time in milliseconds: 1688\n",
        "1 < 200\n",
        "1 < Date: Tue, 25 Jul 2023 04:20:29 GMT\n",
        "1 < Content-Type: application/json\n",
        "1 < Transfer-Encoding: chunked\n",
        "1 < Connection: keep-alive\n",
        "1 < Access-Control-Allow-Origin: *\n",
        "1 < Access-Control-Allow-Methods: GET, POST, DELETE, PUT\n",
        "1 < Access-Control-Allow-Headers: Content-Type, api_key, Authorization\n",
        "1 < Server: Jetty(9.2.9.v20150224)\n",
        "{\"code\":200,\"type\":\"unknown\",\"message\":\"100\"}\n",
        "\n",
        "09:50:29.866 [main]  INFO  com.intuit.karate - [print] Pet ID deleted successfully.\n",
        "09:50:29.871 [main]  INFO  com.intuit.karate - [print] Pet ID: 100\n",
        "09:50:29.875 [main]  INFO  com.intuit.karate - [print] Response Code: 200\n",
        "---------------------------------------------------------\n",
        "feature: src/test/java/testrunner/Problem_7_and_8.feature\n",
        "scenarios:  1 | passed:  1 | failed:  0 | time: 3.6853\n",
        "---------------------------------------------------------\n",
        "\n",
        "09:50:31.230 [main]  INFO  com.intuit.karate.Suite - <<pass>> feature 1 of 1 (0 remaining) src/test/java/testrunner/Problem_7_and_8.feature\n",
        "Karate version: 1.4.0\n",
        "======================================================\n",
        "elapsed:   8.91 | threads:    1 | thread time: 3.69\n",
        "features:     1 | skipped:    0 | efficiency: 0.41\n",
        "scenarios:    1 | passed:     1 | failed: 0\n",
        "======================================================\n",
        "\n",
        "HTML report: (paste into browser to view) | Karate version: 1.4.0\n",
        "file:///C:/Users/maheswaranma/IdeaProjects/Karate_Framework/target/karate-reports/karate-summary.html\n",
        "===================================================================\n",
        "\n",
        "\n",
        "Process finished with exit code 0"
      ],
      "metadata": {
        "id": "Anx7w92iNtib"
      },
      "execution_count": null,
      "outputs": []
    }
  ]
}