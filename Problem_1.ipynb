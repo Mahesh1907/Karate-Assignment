{
  "nbformat": 4,
  "nbformat_minor": 0,
  "metadata": {
    "colab": {
      "provenance": [],
      "authorship_tag": "ABX9TyO8VCqc76JeH/C060peXrD1",
      "include_colab_link": true
    },
    "kernelspec": {
      "name": "python3",
      "display_name": "Python 3"
    },
    "language_info": {
      "name": "python"
    }
  },
  "cells": [
    {
      "cell_type": "markdown",
      "metadata": {
        "id": "view-in-github",
        "colab_type": "text"
      },
      "source": [
        "<a href=\"https://colab.research.google.com/github/Mahesh1907/Karate-Assignment/blob/main/Problem_1.ipynb\" target=\"_parent\"><img src=\"https://colab.research.google.com/assets/colab-badge.svg\" alt=\"Open In Colab\"/></a>"
      ]
    },
    {
      "cell_type": "markdown",
      "source": [
        "Code:"
      ],
      "metadata": {
        "id": "hxWyvoj6BfVg"
      }
    },
    {
      "cell_type": "code",
      "execution_count": null,
      "metadata": {
        "id": "CqLfjzYIBdzd"
      },
      "outputs": [],
      "source": [
        "Feature: Generate Pet Details Excel\n",
        "\n",
        "  Background:\n",
        "    * def pets = []\n",
        "    * def totalPets = 30\n",
        "\n",
        "  Scenario: Fill Pet Details in Excel\n",
        "    Given table petData\n",
        "      | \"Test Case name\" | \"Pet ID\" | \"Pet Name\" |\n",
        "      | \"TC001\"          | 1        | \"Fluffy\"   |\n",
        "      | \"TC002\"          | 2        | \"Max\"      |\n",
        "      | \"TC003\"          | 3        | \"Bella\"    |\n",
        "      | \"TC004\"          | 4        | \"Daisy\"    |\n",
        "      | \"TC005\"          | 5        | \"Buddy\"    |\n",
        "      | \"TC006\"          | 6        | \"Rocky\"    |\n",
        "      | \"TC007\"          | 7        | \"Lucy\"     |\n",
        "      | \"TC008\"          | 8        | \"Charlie\"  |\n",
        "      | \"TC009\"          | 9        | \"Luna\"     |\n",
        "      | \"TC010\"          | 10       | \"Cooper\"   |\n",
        "      | \"TC011\"          | 11       | \"Bailey\"   |\n",
        "      | \"TC012\"          | 12       | \"Sadie\"    |\n",
        "      | \"TC013\"          | 13       | \"Molly\"    |\n",
        "      | \"TC014\"          | 14       | \"Oliver\"   |\n",
        "      | \"TC015\"          | 15       | \"Chloe\"    |\n",
        "      | \"TC016\"          | 16       | \"Leo\"      |\n",
        "      | \"TC017\"          | 17       | \"Lily\"     |\n",
        "      | \"TC018\"          | 18       | \"Riley\"    |\n",
        "      | \"TC019\"          | 19       | \"Zoey\"     |\n",
        "      | \"TC020\"          | 20       | \"Milo\"     |\n",
        "      | \"TC021\"          | 21       | \"Coco\"     |\n",
        "      | \"TC022\"          | 22       | \"Winston\"  |\n",
        "      | \"TC023\"          | 23       | \"Daisy\"    |\n",
        "      | \"TC024\"          | 24       | \"Teddy\"    |\n",
        "      | \"TC025\"          | 25       | \"Ruby\"     |\n",
        "      | \"TC026\"          | 26       | \"Duke\"     |\n",
        "      | \"TC027\"          | 27       | \"Molly\"    |\n",
        "      | \"TC028\"          | 28       | \"Dexter\"   |\n",
        "      | \"TC029\"          | 29       | \"Harper\"   |\n",
        "      | \"TC030\"          | 30       | \"Rocky\"    |\n",
        "\n",
        "    And def petDetails = karate.append(pets, petData)\n",
        "\n",
        "    And def excelData = []\n",
        "    And def headers = ['Test Case name', 'Pet ID', 'Pet Name']\n",
        "    And karate.appendTo(excelData, headers)\n",
        "    And karate.appendTo(excelData, petDetails)\n",
        "\n",
        "    When def fileName = 'PetDetails.xlsx'\n",
        "    And def filePath = java.nio.file.Paths.get('Desktop', fileName).toString()\n",
        "    And karate.write(excelData, filePath)\n",
        "\n",
        "\n",
        "    Then print 'Pet details Excel file generated successfully!'\n"
      ]
    },
    {
      "cell_type": "markdown",
      "source": [
        "***Output:***\n",
        "\n",
        "08:40:32.900 [main]  INFO  com.intuit.karate - Karate version: 1.4.0\n",
        "08:40:33.778 [main]  INFO  com.intuit.karate.Suite - backed up existing 'target\\karate-reports' dir to: target\\karate-reports_1690254633765\n",
        "08:40:37.612 [main]  DEBUG com.intuit.karate - write to file: target\\Desktop\\PetDetails.xlsx\n",
        "08:40:37.621 [main]  INFO  com.intuit.karate - [print] Pet details Excel file generated successfully!\n",
        "---------------------------------------------------------\n",
        "feature: src/test/java/testrunner/Problem_1.feature\n",
        "scenarios:  1 | passed:  1 | failed:  0 | time: 0.9224\n",
        "---------------------------------------------------------\n",
        "\n",
        "08:40:39.407 [main]  INFO  com.intuit.karate.Suite - <<pass>> feature 1 of 1 (0 remaining) src/test/java/testrunner/Problem_1.feature\n",
        "Karate version: 1.4.0\n",
        "======================================================\n",
        "elapsed:   5.87 | threads:    1 | thread time: 0.92\n",
        "features:     1 | skipped:    0 | efficiency: 0.16\n",
        "scenarios:    1 | passed:     1 | failed: 0\n",
        "======================================================\n",
        "\n",
        "HTML report: (paste into browser to view) | Karate version: 1.4.0\n",
        "file:///C:/Users/maheswaranma/IdeaProjects/Karate_Framework/target/karate-reports/karate-summary.html\n",
        "===================================================================\n",
        "\n",
        "\n",
        "Process finished with exit code 0\n",
        "\n"
      ],
      "metadata": {
        "id": "XlZN8jDiBn0J"
      }
    }
  ]
}