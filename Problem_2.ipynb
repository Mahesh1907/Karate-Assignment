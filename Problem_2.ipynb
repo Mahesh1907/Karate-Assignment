{
  "nbformat": 4,
  "nbformat_minor": 0,
  "metadata": {
    "colab": {
      "provenance": [],
      "authorship_tag": "ABX9TyOG7ugnYcfzdv9R1hYyWIr5",
      "include_colab_link": true
    },
    "kernelspec": {
      "name": "python3",
      "display_name": "Python 3"
    },
    "language_info": {
      "name": "python"
    }
  },
  "cells": [
    {
      "cell_type": "markdown",
      "metadata": {
        "id": "view-in-github",
        "colab_type": "text"
      },
      "source": [
        "<a href=\"https://colab.research.google.com/github/Mahesh1907/Karate-Assignment/blob/main/Problem_2.ipynb\" target=\"_parent\"><img src=\"https://colab.research.google.com/assets/colab-badge.svg\" alt=\"Open In Colab\"/></a>"
      ]
    },
    {
      "cell_type": "markdown",
      "source": [
        "Code:"
      ],
      "metadata": {
        "id": "wiE1-xiwEdlz"
      }
    },
    {
      "cell_type": "code",
      "source": [
        "Feature: Retrieve Pet ID or Name from Excel based on Test Case Name\n",
        "\n",
        "  Background:\n",
        "    * def testCases = karate.read('pet_details.csv')\n",
        "\n",
        "  Scenario: Get Pet ID by Test Case Name - TC007\n",
        "    * def testCase = 'TC001'\n",
        "    * def row = karate.filter(testCases, function(x){ return x['Test Case Name'] == testCase })[0]\n",
        "    * def petId = row['Pet ID']\n",
        "    * print 'Pet ID for test case:', testCase, 'is', petId\n",
        "    * def petName = row['Pet Name']\n",
        "    * print 'Pet Name for test case:', testCase, 'is', petName"
      ],
      "metadata": {
        "id": "sMpV_iPLEn2r"
      },
      "execution_count": null,
      "outputs": []
    },
    {
      "cell_type": "markdown",
      "source": [
        "***Output:***"
      ],
      "metadata": {
        "id": "kih4T-OsEkOJ"
      }
    },
    {
      "cell_type": "code",
      "execution_count": null,
      "metadata": {
        "id": "1lmlk_u3EaTl"
      },
      "outputs": [],
      "source": [
        "08:51:05.629 [main]  INFO  com.intuit.karate - Karate version: 1.4.0\n",
        "08:51:06.737 [main]  INFO  com.intuit.karate.Suite - backed up existing 'target\\karate-reports' dir to: target\\karate-reports_1690255266725\n",
        "08:51:10.884 [main]  INFO  com.intuit.karate - [print] Pet ID for test case: TC001 is 157\n",
        "08:51:10.890 [main]  INFO  com.intuit.karate - [print] Pet Name for test case: TC001 is Honey\n",
        "---------------------------------------------------------\n",
        "feature: src/test/java/testrunner/Problem_2.feature\n",
        "scenarios:  1 | passed:  1 | failed:  0 | time: 0.7033\n",
        "---------------------------------------------------------\n",
        "\n",
        "08:51:11.996 [main]  INFO  com.intuit.karate.Suite - <<pass>> feature 1 of 1 (0 remaining) src/test/java/testrunner/Problem_2.feature\n",
        "Karate version: 1.4.0\n",
        "======================================================\n",
        "elapsed:   5.53 | threads:    1 | thread time: 0.70\n",
        "features:     1 | skipped:    0 | efficiency: 0.13\n",
        "scenarios:    1 | passed:     1 | failed: 0\n",
        "======================================================\n",
        "\n",
        "HTML report: (paste into browser to view) | Karate version: 1.4.0\n",
        "file:///C:/Users/maheswaranma/IdeaProjects/Karate_Framework/target/karate-reports/karate-summary.html\n",
        "===================================================================\n",
        "\n",
        "\n",
        "Process finished with exit code 0\n"
      ]
    }
  ]
}