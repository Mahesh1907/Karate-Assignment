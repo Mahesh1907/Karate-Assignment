{
  "nbformat": 4,
  "nbformat_minor": 0,
  "metadata": {
    "colab": {
      "provenance": [],
      "authorship_tag": "ABX9TyMILo1OCgXQA9i1SzY8VNu/",
      "include_colab_link": true
    },
    "kernelspec": {
      "name": "python3",
      "display_name": "Python 3"
    },
    "language_info": {
      "name": "python"
    }
  },
  "cells": [
    {
      "cell_type": "markdown",
      "metadata": {
        "id": "view-in-github",
        "colab_type": "text"
      },
      "source": [
        "<a href=\"https://colab.research.google.com/github/Mahesh1907/Karate-Assignment/blob/main/Problem_5_and_6.ipynb\" target=\"_parent\"><img src=\"https://colab.research.google.com/assets/colab-badge.svg\" alt=\"Open In Colab\"/></a>"
      ]
    },
    {
      "cell_type": "markdown",
      "source": [
        "Code:"
      ],
      "metadata": {
        "id": "T5DcC_yyF6rG"
      }
    },
    {
      "cell_type": "code",
      "execution_count": null,
      "metadata": {
        "id": "3vXfAonbF5oL"
      },
      "outputs": [],
      "source": [
        "Feature: Validate a Pet\n",
        "\n",
        "  Background:\n",
        "    * def getPetId =\n",
        "        \"\"\"\n",
        "        function() {\n",
        "          var petId = 100;\n",
        "          return petId;\n",
        "        }\n",
        "        \"\"\"\n",
        "\n",
        "  Scenario: Validate a specific pet by ID\n",
        "    * def id = getPetId()\n",
        "    Given url 'https://petstore.swagger.io/v2/pet/' + id\n",
        "    When method get\n",
        "    Then status 200\n",
        "    And match response == {\"id\":\"#(id)\",\"name\":\"Fluffy\",\"photoUrls\":[],\"tags\":[],\"status\":\"available\"}\n",
        "    And print 'Pet ID exists.'"
      ]
    },
    {
      "cell_type": "markdown",
      "source": [
        "***Output:***"
      ],
      "metadata": {
        "id": "k4uEKF7LF-Ej"
      }
    },
    {
      "cell_type": "code",
      "source": [
        "09:29:58.185 [main]  INFO  com.intuit.karate - Karate version: 1.4.0\n",
        "09:29:59.113 [main]  INFO  com.intuit.karate.Suite - backed up existing 'target\\karate-reports' dir to: target\\karate-reports_1690257599099\n",
        "09:30:03.799 [main]  DEBUG com.intuit.karate - request:\n",
        "1 > GET https://petstore.swagger.io/v2/pet/100\n",
        "1 > Host: petstore.swagger.io\n",
        "1 > Connection: Keep-Alive\n",
        "1 > User-Agent: Apache-HttpClient/4.5.14 (Java/17.0.7)\n",
        "1 > Accept-Encoding: gzip,deflate\n",
        "\n",
        "\n",
        "09:30:05.619 [main]  DEBUG com.intuit.karate - response time in milliseconds: 1801\n",
        "1 < 200\n",
        "1 < Date: Tue, 25 Jul 2023 04:00:05 GMT\n",
        "1 < Content-Type: application/json\n",
        "1 < Transfer-Encoding: chunked\n",
        "1 < Connection: keep-alive\n",
        "1 < Access-Control-Allow-Origin: *\n",
        "1 < Access-Control-Allow-Methods: GET, POST, DELETE, PUT\n",
        "1 < Access-Control-Allow-Headers: Content-Type, api_key, Authorization\n",
        "1 < Server: Jetty(9.2.9.v20150224)\n",
        "{\"id\":100,\"name\":\"Fluffy\",\"photoUrls\":[],\"tags\":[],\"status\":\"available\"}\n",
        "\n",
        "09:30:06.043 [main]  INFO  com.intuit.karate - [print] Pet ID exists.\n",
        "---------------------------------------------------------\n",
        "feature: src/test/java/testrunner/Problem_5_and_6.feature\n",
        "scenarios:  1 | passed:  1 | failed:  0 | time: 3.7141\n",
        "---------------------------------------------------------\n",
        "\n",
        "09:30:07.297 [main]  INFO  com.intuit.karate.Suite - <<pass>> feature 1 of 1 (0 remaining) src/test/java/testrunner/Problem_5_and_6.feature\n",
        "Karate version: 1.4.0\n",
        "======================================================\n",
        "elapsed:   8.42 | threads:    1 | thread time: 3.71\n",
        "features:     1 | skipped:    0 | efficiency: 0.44\n",
        "scenarios:    1 | passed:     1 | failed: 0\n",
        "======================================================\n",
        "\n",
        "HTML report: (paste into browser to view) | Karate version: 1.4.0\n",
        "file:///C:/Users/maheswaranma/IdeaProjects/Karate_Framework/target/karate-reports/karate-summary.html\n",
        "===================================================================\n",
        "\n",
        "\n",
        "Process finished with exit code 0\n"
      ],
      "metadata": {
        "id": "GU1S5qEHGAmK"
      },
      "execution_count": null,
      "outputs": []
    }
  ]
}