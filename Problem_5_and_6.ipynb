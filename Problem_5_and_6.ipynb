{
  "nbformat": 4,
  "nbformat_minor": 0,
  "metadata": {
    "colab": {
      "provenance": [],
      "authorship_tag": "ABX9TyPGj7heCk6Fi3QlTFQ3th+B",
      "include_colab_link": true
    },
    "kernelspec": {
      "name": "python3",
      "display_name": "Python 3"
    },
    "language_info": {
      "name": "python"
    }
  },
  "cells": [
    {
      "cell_type": "markdown",
      "metadata": {
        "id": "view-in-github",
        "colab_type": "text"
      },
      "source": [
        "<a href=\"https://colab.research.google.com/github/Mahesh1907/Karate-Assignment/blob/main/Problem_5_and_6.ipynb\" target=\"_parent\"><img src=\"https://colab.research.google.com/assets/colab-badge.svg\" alt=\"Open In Colab\"/></a>"
      ]
    },
    {
      "cell_type": "markdown",
      "source": [
        "Code:"
      ],
      "metadata": {
        "id": "T5DcC_yyF6rG"
      }
    },
    {
      "cell_type": "code",
      "execution_count": null,
      "metadata": {
        "id": "3vXfAonbF5oL"
      },
      "outputs": [],
      "source": [
        "Feature: Validate a Pet\n",
        "\n",
        "  Background:\n",
        "    * url 'https://petstore.swagger.io/v2/pet/100'\n",
        "\n",
        "  Scenario: Validate if the pet is created using GET\n",
        "    When method get\n",
        "    Then status 200\n",
        "    And match response == {\"id\":100,\"name\":\"Fluffy\",\"photoUrls\":[],\"tags\":[],\"status\":\"available\"}\n",
        "    And print 'Pet ID exists.'"
      ]
    },
    {
      "cell_type": "markdown",
      "source": [
        "***Output:***"
      ],
      "metadata": {
        "id": "k4uEKF7LF-Ej"
      }
    },
    {
      "cell_type": "code",
      "source": [
        "08:58:45.324 [main]  INFO  com.intuit.karate - Karate version: 1.4.0\n",
        "08:58:46.088 [main]  INFO  com.intuit.karate.Suite - backed up existing 'target\\karate-reports' dir to: target\\karate-reports_1690255726078\n",
        "08:58:51.223 [main]  DEBUG com.intuit.karate - request:\n",
        "1 > GET https://petstore.swagger.io/v2/pet/100\n",
        "1 > Host: petstore.swagger.io\n",
        "1 > Connection: Keep-Alive\n",
        "1 > User-Agent: Apache-HttpClient/4.5.14 (Java/17.0.7)\n",
        "1 > Accept-Encoding: gzip,deflate\n",
        "\n",
        "\n",
        "08:58:53.101 [main]  DEBUG com.intuit.karate - response time in milliseconds: 1855\n",
        "1 < 200\n",
        "1 < Date: Tue, 25 Jul 2023 03:28:52 GMT\n",
        "1 < Content-Type: application/json\n",
        "1 < Transfer-Encoding: chunked\n",
        "1 < Connection: keep-alive\n",
        "1 < Access-Control-Allow-Origin: *\n",
        "1 < Access-Control-Allow-Methods: GET, POST, DELETE, PUT\n",
        "1 < Access-Control-Allow-Headers: Content-Type, api_key, Authorization\n",
        "1 < Server: Jetty(9.2.9.v20150224)\n",
        "{\"id\":100,\"name\":\"Fluffy\",\"photoUrls\":[],\"tags\":[],\"status\":\"available\"}\n",
        "\n",
        "08:58:54.118 [main]  INFO  com.intuit.karate - [print] Pet ID exists.\n",
        "---------------------------------------------------------\n",
        "feature: src/test/java/testrunner/Problem_5_and_6.feature\n",
        "scenarios:  1 | passed:  1 | failed:  0 | time: 4.3115\n",
        "---------------------------------------------------------\n",
        "\n",
        "08:58:56.056 [main]  INFO  com.intuit.karate.Suite - <<pass>> feature 1 of 1 (0 remaining) src/test/java/testrunner/Problem_5_and_6.feature\n",
        "Karate version: 1.4.0\n",
        "======================================================\n",
        "elapsed:  10.22 | threads:    1 | thread time: 4.31\n",
        "features:     1 | skipped:    0 | efficiency: 0.42\n",
        "scenarios:    1 | passed:     1 | failed: 0\n",
        "======================================================\n",
        "\n",
        "HTML report: (paste into browser to view) | Karate version: 1.4.0\n",
        "file:///C:/Users/maheswaranma/IdeaProjects/Karate_Framework/target/karate-reports/karate-summary.html\n",
        "===================================================================\n",
        "\n",
        "\n",
        "Process finished with exit code 0\n"
      ],
      "metadata": {
        "id": "GU1S5qEHGAmK"
      },
      "execution_count": null,
      "outputs": []
    }
  ]
}